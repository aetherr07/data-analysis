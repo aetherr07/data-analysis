{
 "cells": [
  {
   "cell_type": "markdown",
   "metadata": {},
   "source": [
    "152120211052 - Umut Öztürk\n",
    "\n",
    "\n",
    "152120211057 - Atakan Berber"
   ]
  },
  {
   "cell_type": "markdown",
   "metadata": {},
   "source": [
    "-------Kütüphaneler---------"
   ]
  },
  {
   "cell_type": "code",
   "execution_count": null,
   "metadata": {},
   "outputs": [],
   "source": [
    "import numpy as np # linear algebra\n",
    "import pandas as pd # data processing, CSV file I/O (e.g. pd.read_csv)\n",
    "\n",
    "\n",
    "import warnings\n",
    "warnings.filterwarnings(\"ignore\")\n",
    "\n",
    "import matplotlib.pyplot as plt\n",
    "import seaborn as sns\n",
    "\n",
    "from sklearn.preprocessing import LabelEncoder, MinMaxScaler\n",
    "from sklearn.model_selection import train_test_split\n",
    "\n",
    "from sklearn.ensemble import RandomForestClassifier\n",
    "from sklearn.ensemble import ExtraTreesClassifier\n",
    "from sklearn.ensemble import GradientBoostingClassifier\n",
    "from sklearn.ensemble import AdaBoostClassifier\n",
    "from sklearn.linear_model import LogisticRegression\n",
    "from sklearn.svm import SVC\n",
    "from sklearn.naive_bayes import GaussianNB\n",
    "\n",
    "from sklearn.metrics import accuracy_score, classification_report, confusion_matrix\n",
    "\n",
    "from IPython.core.display import display, HTML\n"
   ]
  },
  {
   "cell_type": "markdown",
   "metadata": {},
   "source": [
    "-------Dosya okuma-------"
   ]
  },
  {
   "cell_type": "code",
   "execution_count": null,
   "metadata": {},
   "outputs": [],
   "source": [
    "df = pd.read_csv(\"Heart_Disease_Prediction.csv\")"
   ]
  },
  {
   "cell_type": "markdown",
   "metadata": {},
   "source": [
    "----İlk 5-----"
   ]
  },
  {
   "cell_type": "code",
   "execution_count": null,
   "metadata": {},
   "outputs": [],
   "source": [
    "df.head()"
   ]
  },
  {
   "cell_type": "markdown",
   "metadata": {},
   "source": [
    "----Verilerin açıklaması----"
   ]
  },
  {
   "cell_type": "code",
   "execution_count": null,
   "metadata": {},
   "outputs": [],
   "source": [
    "df.describe()"
   ]
  },
  {
   "cell_type": "code",
   "execution_count": null,
   "metadata": {},
   "outputs": [],
   "source": [
    "df.describe().T"
   ]
  },
  {
   "cell_type": "markdown",
   "metadata": {},
   "source": [
    "-----Veri seti hakkında bilgi--------"
   ]
  },
  {
   "cell_type": "code",
   "execution_count": null,
   "metadata": {},
   "outputs": [],
   "source": [
    "df.info()"
   ]
  },
  {
   "cell_type": "markdown",
   "metadata": {},
   "source": [
    "-----Veri türleri-----"
   ]
  },
  {
   "cell_type": "code",
   "execution_count": null,
   "metadata": {},
   "outputs": [],
   "source": [
    "df.shape"
   ]
  },
  {
   "cell_type": "code",
   "execution_count": null,
   "metadata": {},
   "outputs": [],
   "source": [
    "df.dtypes"
   ]
  },
  {
   "cell_type": "code",
   "execution_count": null,
   "metadata": {},
   "outputs": [],
   "source": [
    "df.isnull()\n"
   ]
  },
  {
   "cell_type": "code",
   "execution_count": null,
   "metadata": {},
   "outputs": [],
   "source": [
    "df.isnull().sum()"
   ]
  },
  {
   "cell_type": "markdown",
   "metadata": {},
   "source": [
    "------Belirli kategorilerdeki değerlerin sayısını gösteren çubuk grafikler------"
   ]
  },
  {
   "cell_type": "code",
   "execution_count": null,
   "metadata": {},
   "outputs": [],
   "source": [
    "cats = [\"Sex\", \"Chest pain type\", \"FBS over 120\", \"EKG results\", \"Exercise angina\"] + df.columns[-4:].tolist()"
   ]
  },
  {
   "cell_type": "code",
   "execution_count": null,
   "metadata": {},
   "outputs": [],
   "source": [
    "index = 0\n",
    "for i in range(3):\n",
    "    fig, axes = plt.subplots(nrows=1, ncols=3, figsize=(15, 6))\n",
    "    for j in range(3):\n",
    "        counts = df[cats[index]].value_counts()\n",
    "        counts.plot(kind=\"bar\", ax=axes[j])\n",
    "        for container in axes[j].containers:\n",
    "            axes[j].bar_label(container)\n",
    "        axes[j].set_yticklabels(())\n",
    "        axes[j].set_ylabel(\"\")\n",
    "        axes[j].set_xlabel(\"\")\n",
    "        axes[j].set_title(cats[index])\n",
    "        index += 1\n",
    "    plt.tight_layout()\n",
    "    plt.show()"
   ]
  },
  {
   "cell_type": "markdown",
   "metadata": {},
   "source": [
    "-----Belirli kategoriler ile kalp hastalığı varlığı arasındaki ilişkiyi gösteren ısı haritaları (heatmaps)-----"
   ]
  },
  {
   "cell_type": "code",
   "execution_count": null,
   "metadata": {},
   "outputs": [],
   "source": [
    "crosstabs = []\n",
    "titles = []\n",
    "\n",
    "for i in cats[:-1]:\n",
    "    crosstab = pd.crosstab(df[i], df[df.columns[-1]])\n",
    "    crosstabs += [crosstab]\n",
    "    titles += [\"{} vs Heart Disease presence\".format(i)]"
   ]
  },
  {
   "cell_type": "code",
   "execution_count": null,
   "metadata": {},
   "outputs": [],
   "source": [
    "index = 0\n",
    "\n",
    "for i in range(2):\n",
    "    fig, axes = plt.subplots(ncols=4, figsize=(15, 6))\n",
    "    for j in range(4):\n",
    "        sns.heatmap(crosstabs[index], annot=True, fmt='d', ax=axes[j])\n",
    "        axes[j].set_title(titles[index])\n",
    "        index += 1\n",
    "    plt.tight_layout()\n",
    "    plt.show()"
   ]
  },
  {
   "cell_type": "markdown",
   "metadata": {},
   "source": [
    "Chest Paint Type\n",
    "\n",
    "1: Typical angina (Tipik anjina)\n",
    "\n",
    "Bu tip ağrı, genellikle fiziksel efor veya duygusal stres ile tetiklenir ve dinlenme veya nitrogliserin ile hafifler. Kalp ile ilgili bir sorun olduğuna işaret eder.\n",
    "\n",
    "2: Atypical angina (Atipik anjina)\n",
    "\n",
    "Bu tür ağrı, tipik anjinadan farklıdır ve eforla ilişkili olmayabilir. Farklı bir karakteristiğe sahip olabilir ve dinlenme veya nitrogliserin ile hafiflemeyebilir.\n",
    "\n",
    "3: Non-anginal pain (Anjina dışı ağrı)\n",
    "\n",
    "Bu tip ağrı, kalple ilgili olmayan ağrıları ifade eder. Örneğin, sindirim sistemi veya kas-iskelet sistemi kaynaklı ağrılar olabilir.\n",
    "\n",
    "4: Asymptomatic (Asemptomatik)\n",
    "\n",
    "Bu durumda kişi herhangi bir göğüs ağrısı yaşamaz."
   ]
  },
  {
   "cell_type": "markdown",
   "metadata": {},
   "source": [
    "Slope ST\n",
    "\n",
    "1 - Upsloping (Yükselen eğim):\n",
    "\n",
    "ST segmenti yukarı doğru eğimlidir. Bu genellikle normal olarak kabul edilir ve genellikle ciddi kalp problemlerine işaret etmez.\n",
    "\n",
    "2 - Flat (Düz eğim):\n",
    "\n",
    "ST segmenti düzdür. Bu durum, kalbin oksijen ihtiyacını karşılayamıyor olabileceğini gösterebilir ve bu nedenle potansiyel olarak anormal kabul edilir.\n",
    "\n",
    "3 - Downsloping (Alçalan eğim):\n",
    "\n",
    "ST segmenti aşağı doğru eğimlidir. Bu durum, kalpte ciddi bir sorun olabileceğini ve genellikle koroner arter hastalığı veya diğer ciddi kalp rahatsızlıkları ile ilişkilidir."
   ]
  },
  {
   "cell_type": "markdown",
   "metadata": {},
   "source": [
    "Thaillum\n",
    "\n",
    "3: Normal\n",
    "\n",
    "Bu sonuç, kalp kasının yeterli kan akışı aldığını ve herhangi bir anormallik olmadığını gösterir.\n",
    "\n",
    "6: Orta Derecede Anormal\n",
    "\n",
    "Bu sonuç, kalp kasının bazı bölgelerinde kan akışının yeterli olmadığını ve olası bir orta derecede iskemiyi gösterebilir.\n",
    "\n",
    "7: Şiddetle Anormal\n",
    "\n",
    "Bu sonuç, kalp kasının büyük bir kısmında ciddi derecede yetersiz kan akışının olduğunu ve ciddi bir kalp hastalığı riski taşıdığını gösterir."
   ]
  },
  {
   "cell_type": "markdown",
   "metadata": {},
   "source": [
    "ST depresyonunun artması genellikle kalp damarlarında tıkanıklığın veya daralmanın bir göstergesi olabilir."
   ]
  },
  {
   "cell_type": "markdown",
   "metadata": {},
   "source": [
    "Number of vessels fluro\n",
    "\n",
    "\n",
    "Fluoroskopi yöntemiyle incelenen damarların sayısını ifade eder. Artması kalp rahatsızlıklarına yol açabilir."
   ]
  },
  {
   "cell_type": "markdown",
   "metadata": {},
   "source": [
    "------Kategorik Verilerin kıyası(pairplot)-----"
   ]
  },
  {
   "cell_type": "code",
   "execution_count": null,
   "metadata": {},
   "outputs": [],
   "source": [
    "nums = [i for i in df.columns if i not in cats]"
   ]
  },
  {
   "cell_type": "code",
   "execution_count": null,
   "metadata": {},
   "outputs": [],
   "source": [
    "sns.pairplot(df, vars=nums, hue=df.columns[-1])\n",
    "plt.show()"
   ]
  },
  {
   "cell_type": "markdown",
   "metadata": {},
   "source": [
    "------Her bir kategorik değişken için, o kategoriye göre sayısal değerlerin ortalama değerlerini gösteren çubuk grafikler------"
   ]
  },
  {
   "cell_type": "code",
   "execution_count": null,
   "metadata": {},
   "outputs": [],
   "source": [
    "def plot(df, name, num, axes):\n",
    "    groupby = df.groupby(name)\n",
    "    mean = groupby[num].mean()\n",
    "    sns.barplot(x=mean.index, y=mean, ax=axes)\n",
    "    for container in axes.containers:\n",
    "        axes.bar_label(container)\n",
    "    axes.set_yticklabels(())\n",
    "    axes.set_xticklabels(axes.get_xticklabels(), rotation=90)\n",
    "    axes.set_xlabel(\"\")\n",
    "    axes.set_ylabel(\"\")\n",
    "    axes.set_title(num)"
   ]
  },
  {
   "cell_type": "code",
   "execution_count": null,
   "metadata": {},
   "outputs": [],
   "source": [
    "for i in cats:\n",
    "    display(HTML(\"<h2>{}</h2>\".format(i)))\n",
    "    fig, axes = plt.subplots(ncols=5, figsize=(15, 6))\n",
    "    for j, k in enumerate(nums):\n",
    "        plot(df, i, k, axes[j])\n",
    "    plt.tight_layout()\n",
    "    plt.show()"
   ]
  },
  {
   "cell_type": "markdown",
   "metadata": {},
   "source": [
    "-------Her bir kategorik değişken için sayısal değerlerin yoğunluk tahminlemelerini (KDE plotları) ----------"
   ]
  },
  {
   "cell_type": "code",
   "execution_count": null,
   "metadata": {},
   "outputs": [],
   "source": [
    "for i in cats[:-1]:\n",
    "    display(HTML(\"<h2>{}</h2>\".format(i)))\n",
    "    fig, axes = plt.subplots(ncols=5, figsize=(15, 6))\n",
    "    for j, k in enumerate(nums):\n",
    "        sns.kdeplot(df, x=k, hue=i, ax=axes[j])\n",
    "        axes[j].set_title(k)\n",
    "        axes[j].set_ylabel(\"\")\n",
    "        axes[j].set_xlabel(\"\")\n",
    "    plt.tight_layout()\n",
    "    plt.show()"
   ]
  },
  {
   "cell_type": "markdown",
   "metadata": {},
   "source": [
    "--------Her bir kategorik değişken için sayısal değerlerin kutu grafikleri(box plots)------"
   ]
  },
  {
   "cell_type": "code",
   "execution_count": null,
   "metadata": {},
   "outputs": [],
   "source": [
    "for i in cats:\n",
    "    display(HTML(\"<h2>{}</h2>\".format(i)))\n",
    "    fig, axes = plt.subplots(ncols=5, figsize=(15, 6))\n",
    "    for j, k in enumerate(nums):\n",
    "        sns.boxplot(df, y=k, x=i, ax=axes[j])\n",
    "        axes[j].set_title(k)\n",
    "        axes[j].set_ylabel(\"\")\n",
    "        axes[j].set_xlabel(\"\")\n",
    "    plt.tight_layout()\n",
    "    plt.show()"
   ]
  },
  {
   "cell_type": "markdown",
   "metadata": {},
   "source": [
    "-------Verilerin önem derecesi-------"
   ]
  },
  {
   "cell_type": "code",
   "execution_count": null,
   "metadata": {},
   "outputs": [],
   "source": [
    "le = LabelEncoder()\n",
    "df[\"Heart Disease\"] = le.fit_transform(df[\"Heart Disease\"].values)\n",
    "x = df.iloc[:, :-1].values\n",
    "y = df.iloc[:, -1].values\n",
    "scaler = MinMaxScaler()\n",
    "x = scaler.fit_transform(x)\n",
    "x_train, x_test, y_train, y_test = train_test_split(x, y, random_state=42, test_size=0.2)\n",
    "forest = RandomForestClassifier()\n",
    "\n",
    "forest.fit(x, y)\n",
    "\n",
    "importances = forest.feature_importances_\n",
    "std = np.std([tree.feature_importances_ for tree in forest.estimators_], axis=0)\n",
    "\n",
    "forest_importances = pd.Series(importances, index=df.columns[:-1])\n",
    "\n",
    "fig, ax = plt.subplots()\n",
    "forest_importances.plot.bar(yerr=std, ax=ax)\n",
    "ax.set_title(\"Feature importances using MDI\")\n",
    "ax.set_ylabel(\"Mean decrease in impurity\")\n",
    "fig.tight_layout()"
   ]
  },
  {
   "cell_type": "markdown",
   "metadata": {},
   "source": [
    "Mean Decrease in Impurity\" (MDI, Ortalama Safsızlık Azalması), karar ağaçlarının safsızlık ölçümlerinin toplam azalmasını ifade eder. Rastgele Orman modelinde, bu değer, her bir özniteliğin modelin genel performansına katkısını değerlendirir. Safsızlık genellikle Gini katsayısı veya entropi gibi ölçümlerle ifade edilir. MDI, belirli bir özniteliğin tüm ağaçlardaki dallanmalarda ne kadar safsızlık azalması sağladığının ortalamasını alır."
   ]
  },
  {
   "cell_type": "markdown",
   "metadata": {},
   "source": [
    "-------------Age - Heart Disease-----------------"
   ]
  },
  {
   "cell_type": "code",
   "execution_count": null,
   "metadata": {},
   "outputs": [],
   "source": [
    "sns.catplot(x=\"Heart Disease\", y=\"Age\", hue=\"Sex\", data=df);"
   ]
  },
  {
   "cell_type": "markdown",
   "metadata": {},
   "source": [
    "-------Güven Aralığı ve Standard Sapma farkı-------"
   ]
  },
  {
   "cell_type": "code",
   "execution_count": null,
   "metadata": {},
   "outputs": [],
   "source": [
    "fig, axes = plt.subplots(1, 2, figsize=(16, 6))\n",
    "\n",
    "# Birinci grafik: Güven aralığı\n",
    "sns.lineplot(ax=axes[0], \n",
    "             x=\"Age\", \n",
    "             y=\"BP\", \n",
    "             hue=\"Heart Disease\", \n",
    "             style=\"Sex\",\n",
    "             markers=True,\n",
    "             dashes=True,\n",
    "             ci=100,\n",
    "             data=df)\n",
    "axes[0].set_title('Age vs BP by Sex (100% Confidence Interval)')\n",
    "\n",
    "# İkinci grafik: Standart sapma\n",
    "sns.lineplot(ax=axes[1], \n",
    "             x=\"Age\", \n",
    "             y=\"BP\", \n",
    "             hue=\"Heart Disease\", \n",
    "             style=\"Sex\",\n",
    "             markers=True,\n",
    "             dashes=True,\n",
    "             ci='sd',\n",
    "             data=df)\n",
    "axes[1].set_title('Age vs BP by Sex (Standard Deviation)')\n",
    "\n",
    "plt.tight_layout()\n",
    "plt.show()\n"
   ]
  },
  {
   "cell_type": "markdown",
   "metadata": {},
   "source": [
    "Güven aralığı (confidence interval), bir tahminin doğruluğu hakkında bilgi sağlar. Güven aralığı, bir parametrenin gerçek değeri hakkında bir tahmin aralığı verir.\n",
    "\n",
    "Güven Aralığı (Confidence Interval):\n",
    "Uzun Gölgeler:\n",
    "\n",
    "Verilerin etrafındaki belirsizliğin veya varyansın yüksek olduğunu gösterir.\n",
    "Modelin tahmin ettiği değerlerin geniş bir aralıkta değişebileceğini ve bu aralığın geniş olduğunu ifade eder.\n",
    "Daha az güvenilir tahminler veya daha yüksek değişkenlik anlamına gelebilir.\n",
    "\n",
    "Kısa Gölgeler:\n",
    "\n",
    "Verilerin etrafındaki belirsizliğin veya varyansın düşük olduğunu gösterir.\n",
    "Modelin tahmin ettiği değerlerin dar bir aralıkta değişebileceğini ve bu aralığın dar olduğunu ifade eder.\n",
    "Daha güvenilir tahminler veya daha düşük değişkenlik anlamına gelir.\n",
    "\n",
    "Standart Sapma Gölgeleri:\n",
    "\n",
    "Uzun Gölgeler (Yüksek Standart Sapma):\n",
    "\n",
    "Verilerin geniş bir aralığa yayıldığını ve ortalamadan büyük sapmalar gösterdiğini ifade eder.\n",
    "Bu, veri setinin daha değişken olduğunu ve veriler arasında büyük farklılıklar bulunduğunu gösterir.\n",
    "Örneğin, yaşa göre kan basıncı değişimlerinde büyük farklılıklar varsa, bu grafikteki gölgeler uzun olacaktır.\n",
    "\n",
    "Kısa Gölgeler (Düşük Standart Sapma):\n",
    "\n",
    "Verilerin dar bir aralığa yayıldığını ve ortalamaya yakın olduğunu ifade eder.\n",
    "Bu, veri setinin daha tutarlı ve homojen olduğunu gösterir.\n",
    "Örneğin, yaşa göre kolesterol seviyeleri birbirine çok yakınsa, bu grafikteki gölgeler kısa olacaktır.\n"
   ]
  },
  {
   "cell_type": "markdown",
   "metadata": {},
   "source": [
    "---------Verilerin kıyası----------"
   ]
  },
  {
   "cell_type": "code",
   "execution_count": null,
   "metadata": {},
   "outputs": [],
   "source": [
    "# Yaşa göre ST depresyonunu cinsiyete göre gösteren çizgi grafiği\n",
    "plt.figure(figsize=(12, 6))\n",
    "sns.lineplot(x='Age', y='ST depression', hue='Sex', data=df)\n",
    "plt.title('Age vs ST depression by Sex')\n",
    "plt.show()\n",
    "\n",
    "# Yaşa göre damardaki lezyon sayısı ve cinsiyete göre renklendirilmiş çizgi grafiği\n",
    "plt.figure(figsize=(12, 6))\n",
    "sns.lineplot(x='Age', y='Number of vessels fluro', hue='Sex', data=df)\n",
    "plt.title('Age vs Number of vessels fluro by Exercise Angina')\n",
    "plt.show()"
   ]
  },
  {
   "cell_type": "markdown",
   "metadata": {},
   "source": [
    "---------One hot encoding ve Çok kategorili dönüşüm-------"
   ]
  },
  {
   "cell_type": "code",
   "execution_count": null,
   "metadata": {},
   "outputs": [],
   "source": [
    "columns_to_encode = ['Chest pain type', 'Thallium', 'Slope of ST', 'EKG results']\n",
    "df_encoded = pd.get_dummies(df, columns=columns_to_encode)\n",
    "# Her bir sütunun one-hot encoding değerlerini ve ilk 5 gözlem için göster\n",
    "for column in columns_to_encode:\n",
    "    print(f\"{column} sütunu one-hot encoding değerleri (ilk 5 gözlem):\")\n",
    "    print(df_encoded[[col for col in df_encoded.columns if column in col]].head())\n",
    "    print(\"--------------------\")\n",
    "\n",
    "# Pandas get_dummies fonksiyonu ile one-hot encoding yap\n",
    "df_encoded = pd.get_dummies(df, columns=columns_to_encode)\n",
    "\n",
    "# Sonucu göster\n",
    "print(df_encoded.head())"
   ]
  },
  {
   "cell_type": "markdown",
   "metadata": {},
   "source": [
    "--------Korelasyon Kıyası------"
   ]
  },
  {
   "cell_type": "code",
   "execution_count": null,
   "metadata": {},
   "outputs": [],
   "source": [
    "\n",
    "numeric_columns = df.select_dtypes(include=['int64', 'float64']).columns\n",
    "numeric_data = df[numeric_columns]\n",
    "correlation_matrix = numeric_data.corr()\n",
    "\n",
    "sns.heatmap(correlation_matrix, annot=True, fmt=\".2f\")"
   ]
  },
  {
   "cell_type": "markdown",
   "metadata": {},
   "source": [
    "--------Cinsiyete göre kan basıncının kalp hastalığı durumuna göre nokta grafikleri (point plot) ile gösterildiği kategorik plot (catplot)-----------"
   ]
  },
  {
   "cell_type": "code",
   "execution_count": null,
   "metadata": {},
   "outputs": [],
   "source": [
    "df['Heart Disease'] = df['Heart Disease'].map({1: 'Presence', 0: 'Absence'})\n",
    "df['Heart Disease'] = df['Heart Disease'].astype('category')"
   ]
  },
  {
   "cell_type": "code",
   "execution_count": null,
   "metadata": {},
   "outputs": [],
   "source": [
    "# Catplot ile cinsiyet ve egzersiz anjinasına göre kalp hastalığı durumu\n",
    "sns.catplot(x=\"Sex\", y=\"BP\",data=df,kind = \"point\",hue=\"Heart Disease\");"
   ]
  },
  {
   "cell_type": "markdown",
   "metadata": {},
   "source": [
    "------------Cinsiyete göre maksimum kalp atış hızının kalp hastalığı durumuna göre kategorik olarak gösterildiği violin plot--------------"
   ]
  },
  {
   "cell_type": "code",
   "execution_count": null,
   "metadata": {},
   "outputs": [],
   "source": [
    "# Catplot ile cinsiyet ve egzersiz anjinasına göre kalp hastalığı durumu\n",
    "sns.catplot(x=\"Sex\", y=\"Max HR\",data=df,kind = \"violin\",hue=\"Heart Disease\");"
   ]
  },
  {
   "cell_type": "markdown",
   "metadata": {},
   "source": [
    "Kalp hastalığı olmayan bireylerin maksimum kalp hızları daha dar bir aralıkta yoğunlaşırken, kalp hastalığı olan bireylerin maksimum kalp hızları daha geniş bir aralıkta dağılım göstermektedir."
   ]
  },
  {
   "cell_type": "markdown",
   "metadata": {},
   "source": [
    "----------Göğüs ağrısı türlerine göre kan basıncının kalp hastalığı durumuna göre kategorik olarak gösterildiği kategorik plot (catplot)---------------"
   ]
  },
  {
   "cell_type": "code",
   "execution_count": null,
   "metadata": {},
   "outputs": [],
   "source": [
    "sns.catplot(x=\"Chest pain type\", y=\"BP\",data=df,hue=\"Heart Disease\");"
   ]
  },
  {
   "cell_type": "markdown",
   "metadata": {},
   "source": [
    "----------Fluoroskopi ile incelenen damar sayısına göre kan basıncının kalp hastalığı durumuna göre kategorik olarak gösterildiği kategorik plot (catplot)---------------"
   ]
  },
  {
   "cell_type": "code",
   "execution_count": null,
   "metadata": {},
   "outputs": [],
   "source": [
    "sns.catplot(x=\"Number of vessels fluro\", y=\"BP\",data=df,hue=\"Heart Disease\");"
   ]
  },
  {
   "cell_type": "markdown",
   "metadata": {},
   "source": [
    "------Kolesterol değerlerinin cinsiyete göre yoğunluk tahminlemesi (KDE plot)-----------"
   ]
  },
  {
   "cell_type": "code",
   "execution_count": null,
   "metadata": {},
   "outputs": [],
   "source": [
    "sns.displot(df, x=\"Cholesterol\", hue=\"Sex\", kind=\"kde\", height=6, aspect=1.5)\n",
    "\n",
    "plt.title('Distribution of Cholesterol by Sex')\n",
    "plt.xlabel('Cholesterol')\n",
    "plt.ylabel('Density')\n",
    "\n",
    "plt.show()"
   ]
  },
  {
   "cell_type": "markdown",
   "metadata": {},
   "source": [
    "------ST eğimi değerlerinin cinsiyete göre yoğunluk tahminlemesi (KDE plot)-----------"
   ]
  },
  {
   "cell_type": "code",
   "execution_count": null,
   "metadata": {},
   "outputs": [],
   "source": [
    "plt.figure(figsize=(10, 6))\n",
    "sns.kdeplot(data=df, x=\"Slope of ST\", hue=\"Sex\", fill=True, common_norm=False, alpha=0.5)\n",
    "\n",
    "plt.title('Distribution of Slope of ST by Sex')\n",
    "plt.xlabel('Slope of ST')\n",
    "plt.ylabel('Density')\n",
    "plt.legend(title='Sex', labels=['Female', 'Male'])\n",
    "plt.show()"
   ]
  },
  {
   "cell_type": "markdown",
   "metadata": {},
   "source": [
    "------Kolesterol değerleri ile kan basıncı arasındaki ilişkiyi cinsiyet ve kalp hastalığı durumlarına göre renklendirilmiş ve stille belirtilmiş bir dağılım grafiği(scatter plot)-----"
   ]
  },
  {
   "cell_type": "code",
   "execution_count": null,
   "metadata": {},
   "outputs": [],
   "source": [
    "sns.scatterplot(data=df, x=\"Cholesterol\", y=\"BP\", hue=\"Sex\", style=\"Heart Disease\", palette=\"Set2\")\n",
    "\n",
    "plt.title('Scatterplot of Cholesterol vs BP')\n",
    "plt.xlabel('Cholesterol')\n",
    "plt.ylabel('BP')\n",
    "\n",
    "plt.show()\n"
   ]
  },
  {
   "cell_type": "markdown",
   "metadata": {},
   "source": [
    "------Kan basıncı ile damarların flüroskopi ile incelenen sayısı arasındaki ilişkiyi cinsiyet ve kalp hastalığı durumlarına göre gösteren ayrık dağılım grafikleri------"
   ]
  },
  {
   "cell_type": "code",
   "execution_count": null,
   "metadata": {},
   "outputs": [],
   "source": [
    "sns.lmplot(data=df, x=\"BP\", y=\"Number of vessels fluro\", hue=\"Sex\", col=\"Heart Disease\", palette=\"Set2\");"
   ]
  }
 ],
 "metadata": {
  "kernelspec": {
   "display_name": "Python 3",
   "language": "python",
   "name": "python3"
  },
  "language_info": {
   "codemirror_mode": {
    "name": "ipython",
    "version": 3
   },
   "file_extension": ".py",
   "mimetype": "text/x-python",
   "name": "python",
   "nbconvert_exporter": "python",
   "pygments_lexer": "ipython3",
   "version": "3.12.3"
  }
 },
 "nbformat": 4,
 "nbformat_minor": 2
}
